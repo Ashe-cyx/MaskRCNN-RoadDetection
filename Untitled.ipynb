{
 "cells": [
  {
   "cell_type": "code",
   "execution_count": 4,
   "metadata": {},
   "outputs": [],
   "source": [
    "import cv2\n",
    "import matplotlib\n",
    "import matplotlib.pyplot as plt\n",
    "from glob import glob\n",
    "import os\n",
    "\n",
    "path_to_train = './'\n",
    "glob_train_imgs = os.path.join(path_to_train, '*_sat.jpg')\n",
    "glob_train_masks = os.path.join(path_to_train, '*_msk.png')\n",
    "\n",
    "train_img_paths = glob(glob_train_imgs)\n",
    "train_mask_paths = glob(glob_train_masks)"
   ]
  },
  {
   "cell_type": "code",
   "execution_count": 5,
   "metadata": {},
   "outputs": [],
   "source": [
    "from skimage.io import imread\n",
    "from skimage.transform import resize\n",
    "from skimage.color import rgb2gray\n",
    "# This will be useful so we can construct the corresponding mask\n",
    "def get_img_id(img_path):\n",
    "    img_basename = os.path.basename(img_path)\n",
    "    img_id = os.path.splitext(img_basename)[0][:-len('_sat')]\n",
    "    return img_id\n",
    "\n",
    "# Write it like a normal function\n",
    "def image_gen(img_paths, img_size=(128, 128)):\n",
    "    # Iterate over all the image paths\n",
    "    for img_path in img_paths:\n",
    "        \n",
    "        # Construct the corresponding mask path\n",
    "        img_id = get_img_id(img_path)\n",
    "        mask_path = os.path.join(path_to_train, img_id + '_msk.png')\n",
    "        \n",
    "        # Load the image and mask, and normalize it to 0-1 range\n",
    "        img = imread(img_path) / 255.\n",
    "        mask = rgb2gray(imread(mask_path))\n",
    "        \n",
    "        # Resize the images\n",
    "#         img = resize(img, img_size, preserve_range=True)\n",
    "#         mask = resize(mask, img_size, mode='constant', preserve_range=True)\n",
    "        # Turn the mask back into a 0-1 mask\n",
    "        mask = (mask >= 0.5).astype(float)\n",
    "        \n",
    "        # Yield the image mask pair\n",
    "        yield img, mask"
   ]
  },
  {
   "cell_type": "code",
   "execution_count": 6,
   "metadata": {},
   "outputs": [
    {
     "name": "stdout",
     "output_type": "stream",
     "text": [
      "(512, 512)\n"
     ]
    }
   ],
   "source": [
    "for im in image_gen(train_img_paths):\n",
    "    img, mask = im\n",
    "    print(mask.shape)"
   ]
  },
  {
   "cell_type": "code",
   "execution_count": 8,
   "metadata": {},
   "outputs": [
    {
     "name": "stdout",
     "output_type": "stream",
     "text": [
      "finish\n"
     ]
    }
   ],
   "source": [
    "import os, numpy, PIL\n",
    "from PIL import Image\n",
    "\n",
    "\n",
    "w,h=Image.open(train_img_paths[0]).size\n",
    "N=len(train_img_paths)\n",
    "\n",
    "# Create a numpy array of floats to store the average (assume RGB images)\n",
    "arr=numpy.zeros((h,w,3),numpy.float)\n",
    "\n",
    "# Build up average pixel intensities, casting each image as an array of floats\n",
    "for im in train_img_paths:\n",
    "    imarr=numpy.array(Image.open(im),dtype=numpy.float)\n",
    "    arr=arr+imarr/N\n",
    "\n",
    "# Round values in array and cast as 8-bit integer\n",
    "arr=numpy.array(numpy.round(arr),dtype=numpy.uint8)\n",
    "\n",
    "# Generate, save and preview final image\n",
    "out=Image.fromarray(arr,mode=\"RGB\")\n",
    "out.save(\"Average.png\")\n",
    "out.show()\n",
    "print('finish')\n",
    "# # Create a numpy array of floats to store the average (assume RGB images)\n",
    "# arr=numpy.zeros((h,w,3),numpy.float)\n",
    "# # Assuming all images are the same size, get dimensions of first image\n",
    "\n",
    "\n",
    "# # Round values in array and cast as 8-bit integer\n",
    "# arr=numpy.array(numpy.round(arr),dtype=numpy.uint8)\n",
    "\n",
    "# # Generate, save and preview final image\n",
    "# out=Image.fromarray(arr,mode=\"RGB\")\n",
    "# out.save(\"Average.png\")\n",
    "# out.show()"
   ]
  },
  {
   "cell_type": "code",
   "execution_count": 9,
   "metadata": {},
   "outputs": [],
   "source": [
    "# get shape\n",
    "\n",
    "for ig in image_gen(train_img_paths):\n",
    "    img, mask = ig;\n"
   ]
  },
  {
   "cell_type": "code",
   "execution_count": null,
   "metadata": {},
   "outputs": [],
   "source": [
    "#rle\n",
    "\n",
    "def create_submission(csv_name, predictions, image_ids):\n",
    "    \"\"\"\n",
    "    csv_name -> string for csv (\"XXXXXXX.csv\")\n",
    "    predictions -> numpyarray of size (num_examples, height, width)\n",
    "                In this case (num_examples, 512, 512)\n",
    "    image_ids -> numpyarray or list of size (num_examples,)\n",
    "    \n",
    "    predictions[i] should be the prediction of road for image_id[i]\n",
    "    \"\"\"\n",
    "    sub = pd.DataFrame()\n",
    "    sub['ImageId'] = image_ids\n",
    "    encodings = []\n",
    "    num_images = len(image_ids)\n",
    "    for i in range(num_images):\n",
    "        if (i+1) % (num_images//10) == 0:\n",
    "            print(i, num_images)\n",
    "        encodings.append(rle_encoding(predictions[i]))\n",
    "        \n",
    "    sub['EncodedPixels'] = encodings\n",
    "    #sub['Height'] = [512]*num_images Nonger needed for DICE Scoring\n",
    "    #sub['Width'] = [512]*num_images Nonger needed for DICE Scoring\n",
    "    sub.to_csv(csv_name, index=False)\n",
    "\n",
    "# Run-length encoding stolen from https://www.kaggle.com/rakhlin/fast-run-length-encoding-python\n",
    "def rle_encoding(x):\n",
    "    \"\"\"\n",
    "    x = numpyarray of size (height, width) representing the mask of an image\n",
    "    if x[i,j] == 0:\n",
    "        image[i,j] is not a road pixel\n",
    "    if x[i,j] != 0:\n",
    "        image[i,j] is a road pixel\n",
    "    \"\"\"\n",
    "    dots = np.where(x.T.flatten() != 0)[0]\n",
    "    run_lengths = []\n",
    "    prev = -2\n",
    "    for b in dots:\n",
    "        if (b>prev+1): \n",
    "            run_lengths.extend((b+1, 0))\n",
    "        run_lengths[-1] += 1\n",
    "        prev = b\n",
    "    return run_lengths\n",
    "\n",
    "\n",
    "def prob_to_rles(x, cutoff=0.5):\n",
    "    lab_img = label(x > cutoff)\n",
    "    for i in range(1, lab_img.max() + 1):\n",
    "        yield rle_encoding(lab_img == i)\n",
    "        \n",
    "new_test_ids = []\n",
    "rles = []\n",
    "for n, id_ in enumerate(test_ids):\n",
    "    rle = list(prob_to_rles(preds_test_upsampled[n]))\n",
    "    if len(rle) == 0:\n",
    "        rles.extend(\"0\")\n",
    "        new_test_ids.extend([0])\n",
    "    else:\n",
    "        rles.extend(rle)\n",
    "        new_test_ids.extend([id_] * len(rle))"
   ]
  },
  {
   "cell_type": "code",
   "execution_count": 19,
   "metadata": {},
   "outputs": [
    {
     "name": "stdout",
     "output_type": "stream",
     "text": [
      "False\n",
      "[ True  True False]\n"
     ]
    }
   ],
   "source": [
    "import numpy as np\n",
    "yval = [True, True, False]\n",
    "pre = [False, True, False]\n",
    "\n",
    "tp = np.sum(np.logical_and(pre == True, yval == True))\n",
    "fp = np.sum(np.logical_and(pre == True, yval == False))\n",
    "fn = np.sum(np.logical_and(pre == False, yval == True))\n",
    "# tp = np.sum((yval == True) == (pre == True))\n",
    "# fp = np.sum((yval == False) == (pre == True))\n",
    "# fn = np.sum((yval == True) == (pre == False))\n",
    "print(np.logical_and(pre == 1, yval == 0))\n",
    "arr1 = np.array([1, 1, 0])\n",
    "arr2 = np.array([0, 0, 1])\n",
    "print(np.logical_and(arr1 == 1, arr2 == 0))\n"
   ]
  },
  {
   "cell_type": "code",
   "execution_count": null,
   "metadata": {},
   "outputs": [],
   "source": []
  }
 ],
 "metadata": {
  "kernelspec": {
   "display_name": "Python 3",
   "language": "python",
   "name": "python3"
  },
  "language_info": {
   "codemirror_mode": {
    "name": "ipython",
    "version": 3
   },
   "file_extension": ".py",
   "mimetype": "text/x-python",
   "name": "python",
   "nbconvert_exporter": "python",
   "pygments_lexer": "ipython3",
   "version": "3.7.3"
  }
 },
 "nbformat": 4,
 "nbformat_minor": 2
}
